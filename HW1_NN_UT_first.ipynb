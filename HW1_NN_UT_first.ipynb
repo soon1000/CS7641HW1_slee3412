{
 "cells": [
  {
   "cell_type": "code",
   "execution_count": 34,
   "id": "e87be029-5df3-4501-a14a-54286fddede3",
   "metadata": {},
   "outputs": [],
   "source": [
    "import os\n",
    "import pandas as pd\n",
    "from sklearn.model_selection import train_test_split\n",
    "from sklearn.preprocessing import LabelEncoder\n",
    "from transformers import BertTokenizer, TFBertModel\n",
    "import tensorflow as tf\n",
    "import numpy as np\n",
    "from sklearn.metrics import accuracy_score\n",
    "import matplotlib.pyplot as plt"
   ]
  },
  {
   "cell_type": "code",
   "execution_count": 35,
   "id": "1ff15695-5757-44db-aa4d-06d940ae058f",
   "metadata": {},
   "outputs": [],
   "source": [
    "# Set the HF_HOME environment variable\n",
    "os.environ['HF_HOME'] = '/path/to/cache/directory'  # Update this path to your cache directory"
   ]
  },
  {
   "cell_type": "code",
   "execution_count": 36,
   "id": "73d63a13-218c-4044-a7ff-e6af7c5a25f0",
   "metadata": {},
   "outputs": [],
   "source": [
    "# Load the dataset\n",
    "file_path = '3026NMfixed_UT.csv'\n",
    "df = pd.read_csv(file_path)"
   ]
  },
  {
   "cell_type": "code",
   "execution_count": 38,
   "id": "fe93565a-3915-407c-ab9d-d4f2c575ae29",
   "metadata": {},
   "outputs": [],
   "source": [
    "# Encode the 'ut' column\n",
    "le_ut = LabelEncoder()\n",
    "df['ut'] = le_ut.fit_transform(df['ut'])"
   ]
  },
  {
   "cell_type": "code",
   "execution_count": 39,
   "id": "cb08dba9-7e20-4db0-9528-07a4b6ae3436",
   "metadata": {},
   "outputs": [],
   "source": [
    "# Split the data into training and testing sets\n",
    "X_train, X_test, y_train, y_test = train_test_split(df['utterance'], df['ut'], test_size=0.2, random_state=42)"
   ]
  },
  {
   "cell_type": "code",
   "execution_count": 40,
   "id": "b20ea580-ef52-4b56-a4bb-f3a36001e546",
   "metadata": {},
   "outputs": [],
   "source": [
    "# Initialize BERT tokenizer\n",
    "tokenizer = BertTokenizer.from_pretrained('bert-base-uncased')"
   ]
  },
  {
   "cell_type": "code",
   "execution_count": 41,
   "id": "2619e09a-88b7-4371-af40-3f15b4ba6d0c",
   "metadata": {},
   "outputs": [],
   "source": [
    "# Tokenize the utterances and pad sequences to max length 128\n",
    "train_encodings = tokenizer(X_train.tolist(), truncation=True, padding='max_length', max_length=128)\n",
    "test_encodings = tokenizer(X_test.tolist(), truncation=True, padding='max_length', max_length=128)"
   ]
  },
  {
   "cell_type": "code",
   "execution_count": 42,
   "id": "e2ccc94c-abfd-4237-a7b5-1115727345a7",
   "metadata": {},
   "outputs": [],
   "source": [
    "# Convert encodings to TensorFlow datasets\n",
    "train_dataset = tf.data.Dataset.from_tensor_slices((dict(train_encodings), y_train)).batch(16)\n",
    "test_dataset = tf.data.Dataset.from_tensor_slices((dict(test_encodings), y_test)).batch(16)"
   ]
  },
  {
   "cell_type": "code",
   "execution_count": 43,
   "id": "9d29de26-1785-4757-9bfa-8071d707f087",
   "metadata": {},
   "outputs": [
    {
     "name": "stderr",
     "output_type": "stream",
     "text": [
      "Some weights of the PyTorch model were not used when initializing the TF 2.0 model TFBertModel: ['cls.seq_relationship.bias', 'cls.predictions.transform.LayerNorm.bias', 'cls.predictions.transform.LayerNorm.weight', 'cls.seq_relationship.weight', 'cls.predictions.transform.dense.bias', 'cls.predictions.bias', 'cls.predictions.transform.dense.weight']\n",
      "- This IS expected if you are initializing TFBertModel from a PyTorch model trained on another task or with another architecture (e.g. initializing a TFBertForSequenceClassification model from a BertForPreTraining model).\n",
      "- This IS NOT expected if you are initializing TFBertModel from a PyTorch model that you expect to be exactly identical (e.g. initializing a TFBertForSequenceClassification model from a BertForSequenceClassification model).\n",
      "All the weights of TFBertModel were initialized from the PyTorch model.\n",
      "If your task is similar to the task the model of the checkpoint was trained on, you can already use TFBertModel for predictions without further training.\n"
     ]
    }
   ],
   "source": [
    "# Load the BERT model\n",
    "bert_model = TFBertModel.from_pretrained('bert-base-uncased')"
   ]
  },
  {
   "cell_type": "code",
   "execution_count": 44,
   "id": "8b4ac03f-b474-44af-b003-f65572a855fb",
   "metadata": {},
   "outputs": [],
   "source": [
    "# Define the custom neural network with BERT embeddings\n",
    "input_ids = tf.keras.layers.Input(shape=(128,), dtype=tf.int32, name='input_ids')\n",
    "attention_mask = tf.keras.layers.Input(shape=(128,), dtype=tf.int32, name='attention_mask')"
   ]
  },
  {
   "cell_type": "code",
   "execution_count": 45,
   "id": "bdbff180-58ad-4fa3-b2a1-c2d5d5988b54",
   "metadata": {},
   "outputs": [
    {
     "name": "stdout",
     "output_type": "stream",
     "text": [
      "WARNING:tensorflow:\n",
      "The following Variables were used a Lambda layer's call (lambda_2), but\n",
      "are not present in its tracked objects:\n",
      "  <tf.Variable 'tf_bert_model_2/bert/embeddings/word_embeddings/weight:0' shape=(30522, 768) dtype=float32>\n",
      "  <tf.Variable 'tf_bert_model_2/bert/embeddings/token_type_embeddings/embeddings:0' shape=(2, 768) dtype=float32>\n",
      "  <tf.Variable 'tf_bert_model_2/bert/embeddings/position_embeddings/embeddings:0' shape=(512, 768) dtype=float32>\n",
      "  <tf.Variable 'tf_bert_model_2/bert/embeddings/LayerNorm/gamma:0' shape=(768,) dtype=float32>\n",
      "  <tf.Variable 'tf_bert_model_2/bert/embeddings/LayerNorm/beta:0' shape=(768,) dtype=float32>\n",
      "  <tf.Variable 'tf_bert_model_2/bert/encoder/layer_._0/attention/self/query/kernel:0' shape=(768, 768) dtype=float32>\n",
      "  <tf.Variable 'tf_bert_model_2/bert/encoder/layer_._0/attention/self/query/bias:0' shape=(768,) dtype=float32>\n",
      "  <tf.Variable 'tf_bert_model_2/bert/encoder/layer_._0/attention/self/key/kernel:0' shape=(768, 768) dtype=float32>\n",
      "  <tf.Variable 'tf_bert_model_2/bert/encoder/layer_._0/attention/self/key/bias:0' shape=(768,) dtype=float32>\n",
      "  <tf.Variable 'tf_bert_model_2/bert/encoder/layer_._0/attention/self/value/kernel:0' shape=(768, 768) dtype=float32>\n",
      "  <tf.Variable 'tf_bert_model_2/bert/encoder/layer_._0/attention/self/value/bias:0' shape=(768,) dtype=float32>\n",
      "  <tf.Variable 'tf_bert_model_2/bert/encoder/layer_._0/attention/output/dense/kernel:0' shape=(768, 768) dtype=float32>\n",
      "  <tf.Variable 'tf_bert_model_2/bert/encoder/layer_._0/attention/output/dense/bias:0' shape=(768,) dtype=float32>\n",
      "  <tf.Variable 'tf_bert_model_2/bert/encoder/layer_._0/attention/output/LayerNorm/gamma:0' shape=(768,) dtype=float32>\n",
      "  <tf.Variable 'tf_bert_model_2/bert/encoder/layer_._0/attention/output/LayerNorm/beta:0' shape=(768,) dtype=float32>\n",
      "  <tf.Variable 'tf_bert_model_2/bert/encoder/layer_._0/intermediate/dense/kernel:0' shape=(768, 3072) dtype=float32>\n",
      "  <tf.Variable 'tf_bert_model_2/bert/encoder/layer_._0/intermediate/dense/bias:0' shape=(3072,) dtype=float32>\n",
      "  <tf.Variable 'tf_bert_model_2/bert/encoder/layer_._0/output/dense/kernel:0' shape=(3072, 768) dtype=float32>\n",
      "  <tf.Variable 'tf_bert_model_2/bert/encoder/layer_._0/output/dense/bias:0' shape=(768,) dtype=float32>\n",
      "  <tf.Variable 'tf_bert_model_2/bert/encoder/layer_._0/output/LayerNorm/gamma:0' shape=(768,) dtype=float32>\n",
      "  <tf.Variable 'tf_bert_model_2/bert/encoder/layer_._0/output/LayerNorm/beta:0' shape=(768,) dtype=float32>\n",
      "  <tf.Variable 'tf_bert_model_2/bert/encoder/layer_._1/attention/self/query/kernel:0' shape=(768, 768) dtype=float32>\n",
      "  <tf.Variable 'tf_bert_model_2/bert/encoder/layer_._1/attention/self/query/bias:0' shape=(768,) dtype=float32>\n",
      "  <tf.Variable 'tf_bert_model_2/bert/encoder/layer_._1/attention/self/key/kernel:0' shape=(768, 768) dtype=float32>\n",
      "  <tf.Variable 'tf_bert_model_2/bert/encoder/layer_._1/attention/self/key/bias:0' shape=(768,) dtype=float32>\n",
      "  <tf.Variable 'tf_bert_model_2/bert/encoder/layer_._1/attention/self/value/kernel:0' shape=(768, 768) dtype=float32>\n",
      "  <tf.Variable 'tf_bert_model_2/bert/encoder/layer_._1/attention/self/value/bias:0' shape=(768,) dtype=float32>\n",
      "  <tf.Variable 'tf_bert_model_2/bert/encoder/layer_._1/attention/output/dense/kernel:0' shape=(768, 768) dtype=float32>\n",
      "  <tf.Variable 'tf_bert_model_2/bert/encoder/layer_._1/attention/output/dense/bias:0' shape=(768,) dtype=float32>\n",
      "  <tf.Variable 'tf_bert_model_2/bert/encoder/layer_._1/attention/output/LayerNorm/gamma:0' shape=(768,) dtype=float32>\n",
      "  <tf.Variable 'tf_bert_model_2/bert/encoder/layer_._1/attention/output/LayerNorm/beta:0' shape=(768,) dtype=float32>\n",
      "  <tf.Variable 'tf_bert_model_2/bert/encoder/layer_._1/intermediate/dense/kernel:0' shape=(768, 3072) dtype=float32>\n",
      "  <tf.Variable 'tf_bert_model_2/bert/encoder/layer_._1/intermediate/dense/bias:0' shape=(3072,) dtype=float32>\n",
      "  <tf.Variable 'tf_bert_model_2/bert/encoder/layer_._1/output/dense/kernel:0' shape=(3072, 768) dtype=float32>\n",
      "  <tf.Variable 'tf_bert_model_2/bert/encoder/layer_._1/output/dense/bias:0' shape=(768,) dtype=float32>\n",
      "  <tf.Variable 'tf_bert_model_2/bert/encoder/layer_._1/output/LayerNorm/gamma:0' shape=(768,) dtype=float32>\n",
      "  <tf.Variable 'tf_bert_model_2/bert/encoder/layer_._1/output/LayerNorm/beta:0' shape=(768,) dtype=float32>\n",
      "  <tf.Variable 'tf_bert_model_2/bert/encoder/layer_._2/attention/self/query/kernel:0' shape=(768, 768) dtype=float32>\n",
      "  <tf.Variable 'tf_bert_model_2/bert/encoder/layer_._2/attention/self/query/bias:0' shape=(768,) dtype=float32>\n",
      "  <tf.Variable 'tf_bert_model_2/bert/encoder/layer_._2/attention/self/key/kernel:0' shape=(768, 768) dtype=float32>\n",
      "  <tf.Variable 'tf_bert_model_2/bert/encoder/layer_._2/attention/self/key/bias:0' shape=(768,) dtype=float32>\n",
      "  <tf.Variable 'tf_bert_model_2/bert/encoder/layer_._2/attention/self/value/kernel:0' shape=(768, 768) dtype=float32>\n",
      "  <tf.Variable 'tf_bert_model_2/bert/encoder/layer_._2/attention/self/value/bias:0' shape=(768,) dtype=float32>\n",
      "  <tf.Variable 'tf_bert_model_2/bert/encoder/layer_._2/attention/output/dense/kernel:0' shape=(768, 768) dtype=float32>\n",
      "  <tf.Variable 'tf_bert_model_2/bert/encoder/layer_._2/attention/output/dense/bias:0' shape=(768,) dtype=float32>\n",
      "  <tf.Variable 'tf_bert_model_2/bert/encoder/layer_._2/attention/output/LayerNorm/gamma:0' shape=(768,) dtype=float32>\n",
      "  <tf.Variable 'tf_bert_model_2/bert/encoder/layer_._2/attention/output/LayerNorm/beta:0' shape=(768,) dtype=float32>\n",
      "  <tf.Variable 'tf_bert_model_2/bert/encoder/layer_._2/intermediate/dense/kernel:0' shape=(768, 3072) dtype=float32>\n",
      "  <tf.Variable 'tf_bert_model_2/bert/encoder/layer_._2/intermediate/dense/bias:0' shape=(3072,) dtype=float32>\n",
      "  <tf.Variable 'tf_bert_model_2/bert/encoder/layer_._2/output/dense/kernel:0' shape=(3072, 768) dtype=float32>\n",
      "  <tf.Variable 'tf_bert_model_2/bert/encoder/layer_._2/output/dense/bias:0' shape=(768,) dtype=float32>\n",
      "  <tf.Variable 'tf_bert_model_2/bert/encoder/layer_._2/output/LayerNorm/gamma:0' shape=(768,) dtype=float32>\n",
      "  <tf.Variable 'tf_bert_model_2/bert/encoder/layer_._2/output/LayerNorm/beta:0' shape=(768,) dtype=float32>\n",
      "  <tf.Variable 'tf_bert_model_2/bert/encoder/layer_._3/attention/self/query/kernel:0' shape=(768, 768) dtype=float32>\n",
      "  <tf.Variable 'tf_bert_model_2/bert/encoder/layer_._3/attention/self/query/bias:0' shape=(768,) dtype=float32>\n",
      "  <tf.Variable 'tf_bert_model_2/bert/encoder/layer_._3/attention/self/key/kernel:0' shape=(768, 768) dtype=float32>\n",
      "  <tf.Variable 'tf_bert_model_2/bert/encoder/layer_._3/attention/self/key/bias:0' shape=(768,) dtype=float32>\n",
      "  <tf.Variable 'tf_bert_model_2/bert/encoder/layer_._3/attention/self/value/kernel:0' shape=(768, 768) dtype=float32>\n",
      "  <tf.Variable 'tf_bert_model_2/bert/encoder/layer_._3/attention/self/value/bias:0' shape=(768,) dtype=float32>\n",
      "  <tf.Variable 'tf_bert_model_2/bert/encoder/layer_._3/attention/output/dense/kernel:0' shape=(768, 768) dtype=float32>\n",
      "  <tf.Variable 'tf_bert_model_2/bert/encoder/layer_._3/attention/output/dense/bias:0' shape=(768,) dtype=float32>\n",
      "  <tf.Variable 'tf_bert_model_2/bert/encoder/layer_._3/attention/output/LayerNorm/gamma:0' shape=(768,) dtype=float32>\n",
      "  <tf.Variable 'tf_bert_model_2/bert/encoder/layer_._3/attention/output/LayerNorm/beta:0' shape=(768,) dtype=float32>\n",
      "  <tf.Variable 'tf_bert_model_2/bert/encoder/layer_._3/intermediate/dense/kernel:0' shape=(768, 3072) dtype=float32>\n",
      "  <tf.Variable 'tf_bert_model_2/bert/encoder/layer_._3/intermediate/dense/bias:0' shape=(3072,) dtype=float32>\n",
      "  <tf.Variable 'tf_bert_model_2/bert/encoder/layer_._3/output/dense/kernel:0' shape=(3072, 768) dtype=float32>\n",
      "  <tf.Variable 'tf_bert_model_2/bert/encoder/layer_._3/output/dense/bias:0' shape=(768,) dtype=float32>\n",
      "  <tf.Variable 'tf_bert_model_2/bert/encoder/layer_._3/output/LayerNorm/gamma:0' shape=(768,) dtype=float32>\n",
      "  <tf.Variable 'tf_bert_model_2/bert/encoder/layer_._3/output/LayerNorm/beta:0' shape=(768,) dtype=float32>\n",
      "  <tf.Variable 'tf_bert_model_2/bert/encoder/layer_._4/attention/self/query/kernel:0' shape=(768, 768) dtype=float32>\n",
      "  <tf.Variable 'tf_bert_model_2/bert/encoder/layer_._4/attention/self/query/bias:0' shape=(768,) dtype=float32>\n",
      "  <tf.Variable 'tf_bert_model_2/bert/encoder/layer_._4/attention/self/key/kernel:0' shape=(768, 768) dtype=float32>\n",
      "  <tf.Variable 'tf_bert_model_2/bert/encoder/layer_._4/attention/self/key/bias:0' shape=(768,) dtype=float32>\n",
      "  <tf.Variable 'tf_bert_model_2/bert/encoder/layer_._4/attention/self/value/kernel:0' shape=(768, 768) dtype=float32>\n",
      "  <tf.Variable 'tf_bert_model_2/bert/encoder/layer_._4/attention/self/value/bias:0' shape=(768,) dtype=float32>\n",
      "  <tf.Variable 'tf_bert_model_2/bert/encoder/layer_._4/attention/output/dense/kernel:0' shape=(768, 768) dtype=float32>\n",
      "  <tf.Variable 'tf_bert_model_2/bert/encoder/layer_._4/attention/output/dense/bias:0' shape=(768,) dtype=float32>\n",
      "  <tf.Variable 'tf_bert_model_2/bert/encoder/layer_._4/attention/output/LayerNorm/gamma:0' shape=(768,) dtype=float32>\n",
      "  <tf.Variable 'tf_bert_model_2/bert/encoder/layer_._4/attention/output/LayerNorm/beta:0' shape=(768,) dtype=float32>\n",
      "  <tf.Variable 'tf_bert_model_2/bert/encoder/layer_._4/intermediate/dense/kernel:0' shape=(768, 3072) dtype=float32>\n",
      "  <tf.Variable 'tf_bert_model_2/bert/encoder/layer_._4/intermediate/dense/bias:0' shape=(3072,) dtype=float32>\n",
      "  <tf.Variable 'tf_bert_model_2/bert/encoder/layer_._4/output/dense/kernel:0' shape=(3072, 768) dtype=float32>\n",
      "  <tf.Variable 'tf_bert_model_2/bert/encoder/layer_._4/output/dense/bias:0' shape=(768,) dtype=float32>\n",
      "  <tf.Variable 'tf_bert_model_2/bert/encoder/layer_._4/output/LayerNorm/gamma:0' shape=(768,) dtype=float32>\n",
      "  <tf.Variable 'tf_bert_model_2/bert/encoder/layer_._4/output/LayerNorm/beta:0' shape=(768,) dtype=float32>\n",
      "  <tf.Variable 'tf_bert_model_2/bert/encoder/layer_._5/attention/self/query/kernel:0' shape=(768, 768) dtype=float32>\n",
      "  <tf.Variable 'tf_bert_model_2/bert/encoder/layer_._5/attention/self/query/bias:0' shape=(768,) dtype=float32>\n",
      "  <tf.Variable 'tf_bert_model_2/bert/encoder/layer_._5/attention/self/key/kernel:0' shape=(768, 768) dtype=float32>\n",
      "  <tf.Variable 'tf_bert_model_2/bert/encoder/layer_._5/attention/self/key/bias:0' shape=(768,) dtype=float32>\n",
      "  <tf.Variable 'tf_bert_model_2/bert/encoder/layer_._5/attention/self/value/kernel:0' shape=(768, 768) dtype=float32>\n",
      "  <tf.Variable 'tf_bert_model_2/bert/encoder/layer_._5/attention/self/value/bias:0' shape=(768,) dtype=float32>\n",
      "  <tf.Variable 'tf_bert_model_2/bert/encoder/layer_._5/attention/output/dense/kernel:0' shape=(768, 768) dtype=float32>\n",
      "  <tf.Variable 'tf_bert_model_2/bert/encoder/layer_._5/attention/output/dense/bias:0' shape=(768,) dtype=float32>\n",
      "  <tf.Variable 'tf_bert_model_2/bert/encoder/layer_._5/attention/output/LayerNorm/gamma:0' shape=(768,) dtype=float32>\n",
      "  <tf.Variable 'tf_bert_model_2/bert/encoder/layer_._5/attention/output/LayerNorm/beta:0' shape=(768,) dtype=float32>\n",
      "  <tf.Variable 'tf_bert_model_2/bert/encoder/layer_._5/intermediate/dense/kernel:0' shape=(768, 3072) dtype=float32>\n",
      "  <tf.Variable 'tf_bert_model_2/bert/encoder/layer_._5/intermediate/dense/bias:0' shape=(3072,) dtype=float32>\n",
      "  <tf.Variable 'tf_bert_model_2/bert/encoder/layer_._5/output/dense/kernel:0' shape=(3072, 768) dtype=float32>\n",
      "  <tf.Variable 'tf_bert_model_2/bert/encoder/layer_._5/output/dense/bias:0' shape=(768,) dtype=float32>\n",
      "  <tf.Variable 'tf_bert_model_2/bert/encoder/layer_._5/output/LayerNorm/gamma:0' shape=(768,) dtype=float32>\n",
      "  <tf.Variable 'tf_bert_model_2/bert/encoder/layer_._5/output/LayerNorm/beta:0' shape=(768,) dtype=float32>\n",
      "  <tf.Variable 'tf_bert_model_2/bert/encoder/layer_._6/attention/self/query/kernel:0' shape=(768, 768) dtype=float32>\n",
      "  <tf.Variable 'tf_bert_model_2/bert/encoder/layer_._6/attention/self/query/bias:0' shape=(768,) dtype=float32>\n",
      "  <tf.Variable 'tf_bert_model_2/bert/encoder/layer_._6/attention/self/key/kernel:0' shape=(768, 768) dtype=float32>\n",
      "  <tf.Variable 'tf_bert_model_2/bert/encoder/layer_._6/attention/self/key/bias:0' shape=(768,) dtype=float32>\n",
      "  <tf.Variable 'tf_bert_model_2/bert/encoder/layer_._6/attention/self/value/kernel:0' shape=(768, 768) dtype=float32>\n",
      "  <tf.Variable 'tf_bert_model_2/bert/encoder/layer_._6/attention/self/value/bias:0' shape=(768,) dtype=float32>\n",
      "  <tf.Variable 'tf_bert_model_2/bert/encoder/layer_._6/attention/output/dense/kernel:0' shape=(768, 768) dtype=float32>\n",
      "  <tf.Variable 'tf_bert_model_2/bert/encoder/layer_._6/attention/output/dense/bias:0' shape=(768,) dtype=float32>\n",
      "  <tf.Variable 'tf_bert_model_2/bert/encoder/layer_._6/attention/output/LayerNorm/gamma:0' shape=(768,) dtype=float32>\n",
      "  <tf.Variable 'tf_bert_model_2/bert/encoder/layer_._6/attention/output/LayerNorm/beta:0' shape=(768,) dtype=float32>\n",
      "  <tf.Variable 'tf_bert_model_2/bert/encoder/layer_._6/intermediate/dense/kernel:0' shape=(768, 3072) dtype=float32>\n",
      "  <tf.Variable 'tf_bert_model_2/bert/encoder/layer_._6/intermediate/dense/bias:0' shape=(3072,) dtype=float32>\n",
      "  <tf.Variable 'tf_bert_model_2/bert/encoder/layer_._6/output/dense/kernel:0' shape=(3072, 768) dtype=float32>\n",
      "  <tf.Variable 'tf_bert_model_2/bert/encoder/layer_._6/output/dense/bias:0' shape=(768,) dtype=float32>\n",
      "  <tf.Variable 'tf_bert_model_2/bert/encoder/layer_._6/output/LayerNorm/gamma:0' shape=(768,) dtype=float32>\n",
      "  <tf.Variable 'tf_bert_model_2/bert/encoder/layer_._6/output/LayerNorm/beta:0' shape=(768,) dtype=float32>\n",
      "  <tf.Variable 'tf_bert_model_2/bert/encoder/layer_._7/attention/self/query/kernel:0' shape=(768, 768) dtype=float32>\n",
      "  <tf.Variable 'tf_bert_model_2/bert/encoder/layer_._7/attention/self/query/bias:0' shape=(768,) dtype=float32>\n",
      "  <tf.Variable 'tf_bert_model_2/bert/encoder/layer_._7/attention/self/key/kernel:0' shape=(768, 768) dtype=float32>\n",
      "  <tf.Variable 'tf_bert_model_2/bert/encoder/layer_._7/attention/self/key/bias:0' shape=(768,) dtype=float32>\n",
      "  <tf.Variable 'tf_bert_model_2/bert/encoder/layer_._7/attention/self/value/kernel:0' shape=(768, 768) dtype=float32>\n",
      "  <tf.Variable 'tf_bert_model_2/bert/encoder/layer_._7/attention/self/value/bias:0' shape=(768,) dtype=float32>\n",
      "  <tf.Variable 'tf_bert_model_2/bert/encoder/layer_._7/attention/output/dense/kernel:0' shape=(768, 768) dtype=float32>\n",
      "  <tf.Variable 'tf_bert_model_2/bert/encoder/layer_._7/attention/output/dense/bias:0' shape=(768,) dtype=float32>\n",
      "  <tf.Variable 'tf_bert_model_2/bert/encoder/layer_._7/attention/output/LayerNorm/gamma:0' shape=(768,) dtype=float32>\n",
      "  <tf.Variable 'tf_bert_model_2/bert/encoder/layer_._7/attention/output/LayerNorm/beta:0' shape=(768,) dtype=float32>\n",
      "  <tf.Variable 'tf_bert_model_2/bert/encoder/layer_._7/intermediate/dense/kernel:0' shape=(768, 3072) dtype=float32>\n",
      "  <tf.Variable 'tf_bert_model_2/bert/encoder/layer_._7/intermediate/dense/bias:0' shape=(3072,) dtype=float32>\n",
      "  <tf.Variable 'tf_bert_model_2/bert/encoder/layer_._7/output/dense/kernel:0' shape=(3072, 768) dtype=float32>\n",
      "  <tf.Variable 'tf_bert_model_2/bert/encoder/layer_._7/output/dense/bias:0' shape=(768,) dtype=float32>\n",
      "  <tf.Variable 'tf_bert_model_2/bert/encoder/layer_._7/output/LayerNorm/gamma:0' shape=(768,) dtype=float32>\n",
      "  <tf.Variable 'tf_bert_model_2/bert/encoder/layer_._7/output/LayerNorm/beta:0' shape=(768,) dtype=float32>\n",
      "  <tf.Variable 'tf_bert_model_2/bert/encoder/layer_._8/attention/self/query/kernel:0' shape=(768, 768) dtype=float32>\n",
      "  <tf.Variable 'tf_bert_model_2/bert/encoder/layer_._8/attention/self/query/bias:0' shape=(768,) dtype=float32>\n",
      "  <tf.Variable 'tf_bert_model_2/bert/encoder/layer_._8/attention/self/key/kernel:0' shape=(768, 768) dtype=float32>\n",
      "  <tf.Variable 'tf_bert_model_2/bert/encoder/layer_._8/attention/self/key/bias:0' shape=(768,) dtype=float32>\n",
      "  <tf.Variable 'tf_bert_model_2/bert/encoder/layer_._8/attention/self/value/kernel:0' shape=(768, 768) dtype=float32>\n",
      "  <tf.Variable 'tf_bert_model_2/bert/encoder/layer_._8/attention/self/value/bias:0' shape=(768,) dtype=float32>\n",
      "  <tf.Variable 'tf_bert_model_2/bert/encoder/layer_._8/attention/output/dense/kernel:0' shape=(768, 768) dtype=float32>\n",
      "  <tf.Variable 'tf_bert_model_2/bert/encoder/layer_._8/attention/output/dense/bias:0' shape=(768,) dtype=float32>\n",
      "  <tf.Variable 'tf_bert_model_2/bert/encoder/layer_._8/attention/output/LayerNorm/gamma:0' shape=(768,) dtype=float32>\n",
      "  <tf.Variable 'tf_bert_model_2/bert/encoder/layer_._8/attention/output/LayerNorm/beta:0' shape=(768,) dtype=float32>\n",
      "  <tf.Variable 'tf_bert_model_2/bert/encoder/layer_._8/intermediate/dense/kernel:0' shape=(768, 3072) dtype=float32>\n",
      "  <tf.Variable 'tf_bert_model_2/bert/encoder/layer_._8/intermediate/dense/bias:0' shape=(3072,) dtype=float32>\n",
      "  <tf.Variable 'tf_bert_model_2/bert/encoder/layer_._8/output/dense/kernel:0' shape=(3072, 768) dtype=float32>\n",
      "  <tf.Variable 'tf_bert_model_2/bert/encoder/layer_._8/output/dense/bias:0' shape=(768,) dtype=float32>\n",
      "  <tf.Variable 'tf_bert_model_2/bert/encoder/layer_._8/output/LayerNorm/gamma:0' shape=(768,) dtype=float32>\n",
      "  <tf.Variable 'tf_bert_model_2/bert/encoder/layer_._8/output/LayerNorm/beta:0' shape=(768,) dtype=float32>\n",
      "  <tf.Variable 'tf_bert_model_2/bert/encoder/layer_._9/attention/self/query/kernel:0' shape=(768, 768) dtype=float32>\n",
      "  <tf.Variable 'tf_bert_model_2/bert/encoder/layer_._9/attention/self/query/bias:0' shape=(768,) dtype=float32>\n",
      "  <tf.Variable 'tf_bert_model_2/bert/encoder/layer_._9/attention/self/key/kernel:0' shape=(768, 768) dtype=float32>\n",
      "  <tf.Variable 'tf_bert_model_2/bert/encoder/layer_._9/attention/self/key/bias:0' shape=(768,) dtype=float32>\n",
      "  <tf.Variable 'tf_bert_model_2/bert/encoder/layer_._9/attention/self/value/kernel:0' shape=(768, 768) dtype=float32>\n",
      "  <tf.Variable 'tf_bert_model_2/bert/encoder/layer_._9/attention/self/value/bias:0' shape=(768,) dtype=float32>\n",
      "  <tf.Variable 'tf_bert_model_2/bert/encoder/layer_._9/attention/output/dense/kernel:0' shape=(768, 768) dtype=float32>\n",
      "  <tf.Variable 'tf_bert_model_2/bert/encoder/layer_._9/attention/output/dense/bias:0' shape=(768,) dtype=float32>\n",
      "  <tf.Variable 'tf_bert_model_2/bert/encoder/layer_._9/attention/output/LayerNorm/gamma:0' shape=(768,) dtype=float32>\n",
      "  <tf.Variable 'tf_bert_model_2/bert/encoder/layer_._9/attention/output/LayerNorm/beta:0' shape=(768,) dtype=float32>\n",
      "  <tf.Variable 'tf_bert_model_2/bert/encoder/layer_._9/intermediate/dense/kernel:0' shape=(768, 3072) dtype=float32>\n",
      "  <tf.Variable 'tf_bert_model_2/bert/encoder/layer_._9/intermediate/dense/bias:0' shape=(3072,) dtype=float32>\n",
      "  <tf.Variable 'tf_bert_model_2/bert/encoder/layer_._9/output/dense/kernel:0' shape=(3072, 768) dtype=float32>\n",
      "  <tf.Variable 'tf_bert_model_2/bert/encoder/layer_._9/output/dense/bias:0' shape=(768,) dtype=float32>\n",
      "  <tf.Variable 'tf_bert_model_2/bert/encoder/layer_._9/output/LayerNorm/gamma:0' shape=(768,) dtype=float32>\n",
      "  <tf.Variable 'tf_bert_model_2/bert/encoder/layer_._9/output/LayerNorm/beta:0' shape=(768,) dtype=float32>\n",
      "  <tf.Variable 'tf_bert_model_2/bert/encoder/layer_._10/attention/self/query/kernel:0' shape=(768, 768) dtype=float32>\n",
      "  <tf.Variable 'tf_bert_model_2/bert/encoder/layer_._10/attention/self/query/bias:0' shape=(768,) dtype=float32>\n",
      "  <tf.Variable 'tf_bert_model_2/bert/encoder/layer_._10/attention/self/key/kernel:0' shape=(768, 768) dtype=float32>\n",
      "  <tf.Variable 'tf_bert_model_2/bert/encoder/layer_._10/attention/self/key/bias:0' shape=(768,) dtype=float32>\n",
      "  <tf.Variable 'tf_bert_model_2/bert/encoder/layer_._10/attention/self/value/kernel:0' shape=(768, 768) dtype=float32>\n",
      "  <tf.Variable 'tf_bert_model_2/bert/encoder/layer_._10/attention/self/value/bias:0' shape=(768,) dtype=float32>\n",
      "  <tf.Variable 'tf_bert_model_2/bert/encoder/layer_._10/attention/output/dense/kernel:0' shape=(768, 768) dtype=float32>\n",
      "  <tf.Variable 'tf_bert_model_2/bert/encoder/layer_._10/attention/output/dense/bias:0' shape=(768,) dtype=float32>\n",
      "  <tf.Variable 'tf_bert_model_2/bert/encoder/layer_._10/attention/output/LayerNorm/gamma:0' shape=(768,) dtype=float32>\n",
      "  <tf.Variable 'tf_bert_model_2/bert/encoder/layer_._10/attention/output/LayerNorm/beta:0' shape=(768,) dtype=float32>\n",
      "  <tf.Variable 'tf_bert_model_2/bert/encoder/layer_._10/intermediate/dense/kernel:0' shape=(768, 3072) dtype=float32>\n",
      "  <tf.Variable 'tf_bert_model_2/bert/encoder/layer_._10/intermediate/dense/bias:0' shape=(3072,) dtype=float32>\n",
      "  <tf.Variable 'tf_bert_model_2/bert/encoder/layer_._10/output/dense/kernel:0' shape=(3072, 768) dtype=float32>\n",
      "  <tf.Variable 'tf_bert_model_2/bert/encoder/layer_._10/output/dense/bias:0' shape=(768,) dtype=float32>\n",
      "  <tf.Variable 'tf_bert_model_2/bert/encoder/layer_._10/output/LayerNorm/gamma:0' shape=(768,) dtype=float32>\n",
      "  <tf.Variable 'tf_bert_model_2/bert/encoder/layer_._10/output/LayerNorm/beta:0' shape=(768,) dtype=float32>\n",
      "  <tf.Variable 'tf_bert_model_2/bert/encoder/layer_._11/attention/self/query/kernel:0' shape=(768, 768) dtype=float32>\n",
      "  <tf.Variable 'tf_bert_model_2/bert/encoder/layer_._11/attention/self/query/bias:0' shape=(768,) dtype=float32>\n",
      "  <tf.Variable 'tf_bert_model_2/bert/encoder/layer_._11/attention/self/key/kernel:0' shape=(768, 768) dtype=float32>\n",
      "  <tf.Variable 'tf_bert_model_2/bert/encoder/layer_._11/attention/self/key/bias:0' shape=(768,) dtype=float32>\n",
      "  <tf.Variable 'tf_bert_model_2/bert/encoder/layer_._11/attention/self/value/kernel:0' shape=(768, 768) dtype=float32>\n",
      "  <tf.Variable 'tf_bert_model_2/bert/encoder/layer_._11/attention/self/value/bias:0' shape=(768,) dtype=float32>\n",
      "  <tf.Variable 'tf_bert_model_2/bert/encoder/layer_._11/attention/output/dense/kernel:0' shape=(768, 768) dtype=float32>\n",
      "  <tf.Variable 'tf_bert_model_2/bert/encoder/layer_._11/attention/output/dense/bias:0' shape=(768,) dtype=float32>\n",
      "  <tf.Variable 'tf_bert_model_2/bert/encoder/layer_._11/attention/output/LayerNorm/gamma:0' shape=(768,) dtype=float32>\n",
      "  <tf.Variable 'tf_bert_model_2/bert/encoder/layer_._11/attention/output/LayerNorm/beta:0' shape=(768,) dtype=float32>\n",
      "  <tf.Variable 'tf_bert_model_2/bert/encoder/layer_._11/intermediate/dense/kernel:0' shape=(768, 3072) dtype=float32>\n",
      "  <tf.Variable 'tf_bert_model_2/bert/encoder/layer_._11/intermediate/dense/bias:0' shape=(3072,) dtype=float32>\n",
      "  <tf.Variable 'tf_bert_model_2/bert/encoder/layer_._11/output/dense/kernel:0' shape=(3072, 768) dtype=float32>\n",
      "  <tf.Variable 'tf_bert_model_2/bert/encoder/layer_._11/output/dense/bias:0' shape=(768,) dtype=float32>\n",
      "  <tf.Variable 'tf_bert_model_2/bert/encoder/layer_._11/output/LayerNorm/gamma:0' shape=(768,) dtype=float32>\n",
      "  <tf.Variable 'tf_bert_model_2/bert/encoder/layer_._11/output/LayerNorm/beta:0' shape=(768,) dtype=float32>\n",
      "  <tf.Variable 'tf_bert_model_2/bert/pooler/dense/kernel:0' shape=(768, 768) dtype=float32>\n",
      "  <tf.Variable 'tf_bert_model_2/bert/pooler/dense/bias:0' shape=(768,) dtype=float32>\n",
      "It is possible that this is intended behavior, but it is more likely\n",
      "an omission. This is a strong indication that this layer should be\n",
      "formulated as a subclassed Layer rather than a Lambda layer.\n"
     ]
    }
   ],
   "source": [
    "# Use a Lambda layer to correctly process inputs and specify the output shape\n",
    "def process_bert(inputs):\n",
    "    input_ids, attention_mask = inputs\n",
    "    bert_outputs = bert_model(input_ids=input_ids, attention_mask=attention_mask)\n",
    "    return bert_outputs.last_hidden_state\n",
    "\n",
    "bert_outputs = tf.keras.layers.Lambda(process_bert, output_shape=(128, 768))([input_ids, attention_mask])\n",
    "cls_token = bert_outputs[:, 0, :]\n",
    "\n",
    "x = tf.keras.layers.Dense(128, activation='relu')(cls_token)\n",
    "x = tf.keras.layers.Dropout(0.5)(x)\n",
    "output = tf.keras.layers.Dense(len(le_ut.classes_), activation='softmax')(x)\n",
    "\n",
    "model = tf.keras.models.Model(inputs=[input_ids, attention_mask], outputs=output)"
   ]
  },
  {
   "cell_type": "code",
   "execution_count": 46,
   "id": "a13784eb-fea0-4b26-891d-970af6a68e47",
   "metadata": {},
   "outputs": [],
   "source": [
    "# Compile the model\n",
    "optimizer = tf.keras.optimizers.Adam(learning_rate=5e-5)\n",
    "model.compile(optimizer=optimizer, loss='sparse_categorical_crossentropy', metrics=['accuracy'])"
   ]
  },
  {
   "cell_type": "code",
   "execution_count": 47,
   "id": "7ffaf5ca-44c9-4448-adf2-5b817f30fb43",
   "metadata": {},
   "outputs": [
    {
     "name": "stdout",
     "output_type": "stream",
     "text": [
      "Epoch 1/3\n"
     ]
    },
    {
     "name": "stderr",
     "output_type": "stream",
     "text": [
      "C:\\Users\\soon1\\AppData\\Local\\Temp\\__autograph_generated_filea7wvo1gc.py:63: UserWarning: Input dict contained keys ['token_type_ids'] which did not match any model input. They will be ignored by the model.\n",
      "  ag__.converted_call(ag__.ld(warnings).warn, (ag__.converted_call('Input dict contained keys {} which did not match any model input. They will be ignored by the model.'.format, ([ag__.ld(n) for n in ag__.converted_call(ag__.ld(tensors).keys, (), None, fscope) if ag__.ld(n) not in ag__.ld(ref_input_names)],), None, fscope),), dict(stacklevel=2), fscope)\n"
     ]
    },
    {
     "name": "stdout",
     "output_type": "stream",
     "text": [
      "29/29 [==============================] - 70s 2s/step - loss: 2.5419 - accuracy: 0.1615 - val_loss: 2.2655 - val_accuracy: 0.3186\n",
      "Epoch 2/3\n",
      "29/29 [==============================] - 34s 1s/step - loss: 2.2805 - accuracy: 0.2235 - val_loss: 2.1219 - val_accuracy: 0.3894\n",
      "Epoch 3/3\n",
      "29/29 [==============================] - 35s 1s/step - loss: 2.1978 - accuracy: 0.2655 - val_loss: 2.0244 - val_accuracy: 0.3894\n"
     ]
    }
   ],
   "source": [
    "# Train the model and save history\n",
    "history = model.fit(train_dataset, epochs=3, validation_data=test_dataset)"
   ]
  },
  {
   "cell_type": "code",
   "execution_count": 48,
   "id": "cbbfed63-51e7-48c3-829b-842a35e59a15",
   "metadata": {},
   "outputs": [
    {
     "name": "stdout",
     "output_type": "stream",
     "text": [
      "8/8 [==============================] - 6s 770ms/step - loss: 2.0244 - accuracy: 0.3894\n"
     ]
    }
   ],
   "source": [
    "# Evaluate the model\n",
    "eval_results = model.evaluate(test_dataset)"
   ]
  },
  {
   "cell_type": "code",
   "execution_count": 49,
   "id": "5abe342d-ec7f-4397-a104-fe4b7577d0e2",
   "metadata": {},
   "outputs": [
    {
     "name": "stdout",
     "output_type": "stream",
     "text": [
      "8/8 [==============================] - 16s 769ms/step\n"
     ]
    }
   ],
   "source": [
    "# Predict on the test set\n",
    "predictions = model.predict(test_dataset)\n",
    "pred_labels = np.argmax(predictions, axis=1)"
   ]
  },
  {
   "cell_type": "code",
   "execution_count": 50,
   "id": "f3ea29bd-f320-40af-b11d-2d3344079f19",
   "metadata": {},
   "outputs": [
    {
     "name": "stdout",
     "output_type": "stream",
     "text": [
      "Test set accuracy: 0.3894\n"
     ]
    }
   ],
   "source": [
    "# Calculate accuracy\n",
    "accuracy = accuracy_score(y_test, pred_labels)\n",
    "print(f\"Test set accuracy: {accuracy:.4f}\")"
   ]
  },
  {
   "cell_type": "code",
   "execution_count": 51,
   "id": "15baad73-d76c-4129-a07e-0042fa291079",
   "metadata": {},
   "outputs": [
    {
     "data": {
      "image/png": "[encoded data removed]",
      "text/plain": [
       "<Figure size 1200x500 with 2 Axes>"
      ]
     },
     "metadata": {},
     "output_type": "display_data"
    }
   ],
   "source": [
    "# Plot training & validation accuracy values\n",
    "plt.figure(figsize=(12, 5))\n",
    "\n",
    "plt.subplot(1, 2, 1)\n",
    "plt.plot(history.history['accuracy'], label='Training Accuracy')\n",
    "plt.plot(history.history['val_accuracy'], label='Validation Accuracy')\n",
    "plt.title('Model Accuracy')\n",
    "plt.ylabel('Accuracy')\n",
    "plt.xlabel('Epoch')\n",
    "plt.legend(loc='upper left')\n",
    "\n",
    "# Plot training & validation loss values\n",
    "plt.subplot(1, 2, 2)\n",
    "plt.plot(history.history['loss'], label='Training Loss')\n",
    "plt.plot(history.history['val_loss'], label='Validation Loss')\n",
    "plt.title('Model Loss')\n",
    "plt.ylabel('Loss')\n",
    "plt.xlabel('Epoch')\n",
    "plt.legend(loc='upper left')\n",
    "\n",
    "plt.tight_layout()\n",
    "plt.show()"
   ]
  },
  {
   "cell_type": "code",
   "execution_count": null,
   "id": "7f38c3b7-c6d8-4ab4-851f-6923fb5010af",
   "metadata": {},
   "outputs": [],
   "source": []
  }
 ],
 "metadata": {
  "kernelspec": {
   "display_name": "Python 3 (ipykernel)",
   "language": "python",
   "name": "python3"
  },
  "language_info": {
   "codemirror_mode": {
    "name": "ipython",
    "version": 3
   },
   "file_extension": ".py",
   "mimetype": "text/x-python",
   "name": "python",
   "nbconvert_exporter": "python",
   "pygments_lexer": "ipython3",
   "version": "3.10.9"
  }
 },
 "nbformat": 4,
 "nbformat_minor": 5
}
